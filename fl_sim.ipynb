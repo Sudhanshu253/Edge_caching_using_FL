{
  "nbformat": 4,
  "nbformat_minor": 0,
  "metadata": {
    "colab": {
      "provenance": []
    },
    "kernelspec": {
      "name": "python3",
      "display_name": "Python 3"
    },
    "language_info": {
      "name": "python"
    }
  },
  "cells": [
    {
      "cell_type": "code",
      "source": [
        "!pip install --quiet numpy==1.25.2 scipy tensorflow==2.14.1 tensorflow_federated==0.84.0"
      ],
      "metadata": {
        "id": "JMqaBkVLJntJ"
      },
      "execution_count": 1,
      "outputs": []
    },
    {
      "cell_type": "code",
      "execution_count": 2,
      "metadata": {
        "id": "iulAoyomIwei"
      },
      "outputs": [],
      "source": [
        "import pandas as pd\n",
        "import numpy as np"
      ]
    },
    {
      "cell_type": "markdown",
      "source": [
        "Load MovieLens 1M Data (Handles Encoding)\n"
      ],
      "metadata": {
        "id": "1MEHRjHIK3I1"
      }
    },
    {
      "cell_type": "code",
      "source": [
        "# Use ISO-8859-1 encoding as per dataset documentation and community advice[5][6]\n",
        "users = pd.read_csv('/content/users.dat', sep='::', engine='python',\n",
        "                    names=['UserID', 'Gender', 'Age', 'Occupation', 'Zip-code'],\n",
        "                    encoding='ISO-8859-1')\n",
        "ratings = pd.read_csv('/content/ratings.dat', sep='::', engine='python',\n",
        "                      names=['UserID', 'MovieID', 'Rating', 'Timestamp'],\n",
        "                      encoding='ISO-8859-1')\n",
        "movies = pd.read_csv('/content/movies.dat', sep='::', engine='python',\n",
        "                     names=['MovieID', 'Title', 'Genres'],\n",
        "                     encoding='ISO-8859-1')\n",
        "\n",
        "# Map user and movie IDs to indices\n",
        "user_id_map = {uid: idx for idx, uid in enumerate(users['UserID'].unique())}\n",
        "movie_id_map = {mid: idx for idx, mid in enumerate(movies['MovieID'].unique())}\n",
        "\n",
        "num_users = len(user_id_map)\n",
        "num_movies = len(movie_id_map)\n",
        "\n",
        "# Build binary user-movie request matrix\n",
        "request_matrix = np.zeros((num_users, num_movies), dtype=np.int8)\n",
        "for row in ratings.itertuples():\n",
        "    uidx = user_id_map[row.UserID]\n",
        "    midx = movie_id_map[row.MovieID]\n",
        "    request_matrix[uidx, midx] = 1\n",
        "\n",
        "print(f\"Users: {num_users}, Movies: {num_movies}, Matrix shape: {request_matrix.shape}\")\n"
      ],
      "metadata": {
        "colab": {
          "base_uri": "https://localhost:8080/"
        },
        "id": "KGTQOf1MJGOz",
        "outputId": "b5cca1f7-8ad5-48a8-87e3-410924ca2020"
      },
      "execution_count": 3,
      "outputs": [
        {
          "output_type": "stream",
          "name": "stdout",
          "text": [
            "Users: 6040, Movies: 3883, Matrix shape: (6040, 3883)\n"
          ]
        }
      ]
    },
    {
      "cell_type": "markdown",
      "source": [
        " Simulation Parameters and Device Initialization"
      ],
      "metadata": {
        "id": "m67SyXMMK4IE"
      }
    },
    {
      "cell_type": "code",
      "source": [
        "# Simulation parameters from your table[3][4]\n",
        "N = 10  # Number of devices\n",
        "users_per_device = num_users // N\n",
        "\n",
        "np.random.seed(42)\n",
        "devices = []\n",
        "for n in range(N):\n",
        "    start = n * users_per_device\n",
        "    end = (n + 1) * users_per_device if n < N - 1 else num_users\n",
        "    Xn = request_matrix[start:end]\n",
        "    Dn = np.random.randint(20, 51)\n",
        "    wn = np.random.uniform(50, 100) * 8 * 1e6  # MB to bits\n",
        "    alpha_n = np.random.uniform(18, 20.5) * 1e5\n",
        "    Cn = np.random.randint(40, 61)\n",
        "    Pn = np.random.uniform(0.01, 0.05)\n",
        "    gamma_n = 10  # SNR (linear)\n",
        "    # Cosine similarity\n",
        "    if Xn.shape[0] > 1:\n",
        "        sims = []\n",
        "        for i in range(Xn.shape[0]):\n",
        "            for j in range(i+1, Xn.shape[0]):\n",
        "                a, b = Xn[i], Xn[j]\n",
        "                if np.linalg.norm(a) and np.linalg.norm(b):\n",
        "                    sims.append(np.dot(a, b) / (np.linalg.norm(a) * np.linalg.norm(b)))\n",
        "        rho_n = np.mean(sims) if sims else 0.0\n",
        "    else:\n",
        "        rho_n = 0.0\n",
        "    devices.append({\n",
        "        'Xn': Xn,\n",
        "        'Dn': Dn,\n",
        "        'wn': wn,\n",
        "        'alpha_n': alpha_n,\n",
        "        'Cn': Cn,\n",
        "        'Pn': Pn,\n",
        "        'gamma_n': gamma_n,\n",
        "        'rho_n': rho_n,\n",
        "        'z_n': Xn.sum()\n",
        "    })\n"
      ],
      "metadata": {
        "id": "dfO174HwK5-I"
      },
      "execution_count": 4,
      "outputs": []
    },
    {
      "cell_type": "markdown",
      "source": [
        "Latency and Energy Calculation"
      ],
      "metadata": {
        "id": "fyuwbCdnLRzE"
      }
    },
    {
      "cell_type": "code",
      "source": [
        "def calc_latency_energy(dev):\n",
        "    wS = 75 * 8 * 1e6  # 75 MB in bits\n",
        "    Bdn_S = 150e6\n",
        "    Bup_n = 100e6\n",
        "    mu_n = 1\n",
        "    f_n = 1e9\n",
        "    beta_n = 1e-27\n",
        "    P_dn_S = 1.0\n",
        "\n",
        "    t_dn = wS / (Bdn_S * np.log2(1 + dev['gamma_n']))\n",
        "    e_dn = P_dn_S * t_dn\n",
        "    t_comp = mu_n * dev['Cn'] * dev['Dn'] / f_n\n",
        "    e_comp = beta_n * mu_n * dev['Cn'] * dev['Dn'] * f_n ** 2\n",
        "    t_up = dev['wn'] / (Bup_n * np.log2(1 + dev['gamma_n']))\n",
        "    e_up = dev['Pn'] * t_up\n",
        "    return t_dn + t_comp + t_up, e_dn + e_comp + e_up\n",
        "\n",
        "for dev in devices:\n",
        "    dev['t_n'], dev['e_n'] = calc_latency_energy(dev)\n"
      ],
      "metadata": {
        "id": "zaKPmshvK7o2"
      },
      "execution_count": 5,
      "outputs": []
    },
    {
      "cell_type": "markdown",
      "source": [
        "Device Selection Optimization (Constraints 1a–1j)"
      ],
      "metadata": {
        "id": "90gS6z85LWHG"
      }
    },
    {
      "cell_type": "code",
      "source": [
        "!pip install cvxpy\n",
        "!pip install ecos\n"
      ],
      "metadata": {
        "colab": {
          "base_uri": "https://localhost:8080/"
        },
        "id": "GncX7ihkLmwu",
        "outputId": "f4adfd69-93c7-46b3-9216-56906582cc75"
      },
      "execution_count": 6,
      "outputs": [
        {
          "output_type": "stream",
          "name": "stdout",
          "text": [
            "Requirement already satisfied: cvxpy in /usr/local/lib/python3.11/dist-packages (1.6.0)\n",
            "Requirement already satisfied: osqp>=0.6.2 in /usr/local/lib/python3.11/dist-packages (from cvxpy) (1.0.4)\n",
            "Requirement already satisfied: clarabel>=0.5.0 in /usr/local/lib/python3.11/dist-packages (from cvxpy) (0.11.1)\n",
            "Requirement already satisfied: scs>=3.2.4.post1 in /usr/local/lib/python3.11/dist-packages (from cvxpy) (3.2.7.post2)\n",
            "Requirement already satisfied: numpy>=1.20 in /usr/local/lib/python3.11/dist-packages (from cvxpy) (1.25.2)\n",
            "Requirement already satisfied: scipy>=1.1.0 in /usr/local/lib/python3.11/dist-packages (from cvxpy) (1.9.3)\n",
            "Requirement already satisfied: cffi in /usr/local/lib/python3.11/dist-packages (from clarabel>=0.5.0->cvxpy) (1.17.1)\n",
            "Requirement already satisfied: jinja2 in /usr/local/lib/python3.11/dist-packages (from osqp>=0.6.2->cvxpy) (3.1.6)\n",
            "Requirement already satisfied: setuptools in /usr/local/lib/python3.11/dist-packages (from osqp>=0.6.2->cvxpy) (75.2.0)\n",
            "Requirement already satisfied: joblib in /usr/local/lib/python3.11/dist-packages (from osqp>=0.6.2->cvxpy) (1.5.1)\n",
            "Requirement already satisfied: pycparser in /usr/local/lib/python3.11/dist-packages (from cffi->clarabel>=0.5.0->cvxpy) (2.22)\n",
            "Requirement already satisfied: MarkupSafe>=2.0 in /usr/local/lib/python3.11/dist-packages (from jinja2->osqp>=0.6.2->cvxpy) (3.0.2)\n",
            "Requirement already satisfied: ecos in /usr/local/lib/python3.11/dist-packages (2.0.14)\n",
            "Requirement already satisfied: numpy>=1.6 in /usr/local/lib/python3.11/dist-packages (from ecos) (1.25.2)\n",
            "Requirement already satisfied: scipy>=0.9 in /usr/local/lib/python3.11/dist-packages (from ecos) (1.9.3)\n"
          ]
        }
      ]
    },
    {
      "cell_type": "markdown",
      "source": [
        "Define Parameters"
      ],
      "metadata": {
        "id": "FFDPrkrCOf6A"
      }
    },
    {
      "cell_type": "code",
      "source": [
        "# Define simulation parameters from your constraint table\n",
        "params = {\n",
        "    'z_min': 800,\n",
        "    'z_max': 7000,\n",
        "    'D_max': 40,\n",
        "    't_max': 1e-3,      # 1 ms\n",
        "    'e_max': 1e-3,      # 1 mJ\n",
        "    'S_min': 2,\n",
        "    'S_max': 10         # Use 10 as per your table\n",
        "}\n",
        "\n",
        "print(\"Parameters defined:\", params)\n"
      ],
      "metadata": {
        "colab": {
          "base_uri": "https://localhost:8080/"
        },
        "id": "yi1eo-QuOfPm",
        "outputId": "0dd80fcf-686f-40eb-b838-1471e6cd55ed"
      },
      "execution_count": 7,
      "outputs": [
        {
          "output_type": "stream",
          "name": "stdout",
          "text": [
            "Parameters defined: {'z_min': 800, 'z_max': 7000, 'D_max': 40, 't_max': 0.001, 'e_max': 0.001, 'S_min': 2, 'S_max': 10}\n"
          ]
        }
      ]
    },
    {
      "cell_type": "code",
      "source": [
        "import cvxpy as cp\n",
        "def device_selection_with_offloading(devices, params):\n",
        "    N = len(devices)\n",
        "    # Decision variables\n",
        "    s = cp.Variable(N, boolean=True)           # Device selection\n",
        "    phi = cp.Variable((N, N), nonneg=True)     # Offloading fractions\n",
        "    t = cp.Variable(nonneg=True)               # Round latency\n",
        "\n",
        "    # Device parameters\n",
        "    z = np.array([d['z_n'] for d in devices])\n",
        "    rho = np.array([d['rho_n'] for d in devices])\n",
        "    D = np.array([d['Dn'] for d in devices])\n",
        "    t_n = np.array([d['t_n'] for d in devices])\n",
        "    e_n = np.array([d['e_n'] for d in devices])\n",
        "    alpha = np.array([d['alpha_n'] for d in devices])\n",
        "\n",
        "    # Normalize rho for numerical stability\n",
        "    rho_norm = rho / (np.max(rho) + 1e-10)\n",
        "\n",
        "    # Objective: maximize sum(s_n * z_n * rho_n)\n",
        "    objective = cp.Maximize(cp.sum(cp.multiply(s, z * rho_norm)))\n",
        "\n",
        "    constraints = []\n",
        "\n",
        "    # 1a: Variable bounds (handled by cp.Variable)\n",
        "    constraints += [phi <= 1]\n",
        "\n",
        "    # 1b: s_n*z_n + (1-s_n)*z_min >= z_min\n",
        "    constraints += [cp.multiply(s, z) + cp.multiply(1 - s, params['z_min']) >= params['z_min']]\n",
        "\n",
        "    # 1c: (1-s_n)*z_n + alpha_n*t <= z_max\n",
        "    constraints += [cp.multiply(1 - s, z) + cp.multiply(alpha, t) <= params['z_max']]\n",
        "\n",
        "    # 1d: s_n*Dn <= D_max\n",
        "    constraints += [cp.multiply(s, D) <= params['D_max']]\n",
        "\n",
        "    # 1e: t <= t_max, t >= max(s_n * t_n)\n",
        "    constraints += [t <= params['t_max']]\n",
        "    constraints += [t >= cp.max(cp.multiply(s, t_n))]\n",
        "\n",
        "    # 1f: s_n*e_n <= e_max\n",
        "    constraints += [cp.multiply(s, e_n) <= params['e_max']]\n",
        "\n",
        "    # 1g: S_min <= sum(s_n) <= S_max\n",
        "    constraints += [cp.sum(s) >= params['S_min']]\n",
        "    constraints += [cp.sum(s) <= params['S_max']]\n",
        "\n",
        "    # 1h: sum_m phi_mn <= 1 for all n\n",
        "    constraints += [cp.sum(phi, axis=0) <= 1]\n",
        "\n",
        "    # 1i: (1-s_n)(1-s_m)phi_nm = 0  (linearized: phi_nm <= s_n + s_m)\n",
        "    for n in range(N):\n",
        "        for m in range(N):\n",
        "            if n != m:\n",
        "                constraints.append(phi[n, m] <= s[n] + s[m])\n",
        "\n",
        "    # 1j: s_n * phi_nm = 0 (linearized: phi_nm <= 1 - s_n)\n",
        "    for n in range(N):\n",
        "        for m in range(N):\n",
        "            if n != m:\n",
        "                constraints.append(phi[n, m] <= 1 - s[n])\n",
        "\n",
        "    # Solve the problem\n",
        "    prob = cp.Problem(objective, constraints)\n",
        "\n",
        "    try:\n",
        "        prob.solve(solver=cp.ECOS_BB, verbose=False)\n",
        "\n",
        "        if prob.status == cp.OPTIMAL:\n",
        "            selected = (s.value > 0.5).astype(int)\n",
        "            phi_val = phi.value\n",
        "        else:\n",
        "            # Fallback: greedy selection\n",
        "            scores = z * rho_norm\n",
        "            selected_idx = np.argsort(scores)[-params['S_max']:]\n",
        "            selected = np.zeros(N, dtype=int)\n",
        "            selected[selected_idx] = 1\n",
        "            phi_val = np.zeros((N, N))\n",
        "\n",
        "    except Exception as e:\n",
        "        print(f\"Optimization failed: {e}\")\n",
        "        # Fallback: greedy selection\n",
        "        scores = z * rho_norm\n",
        "        selected_idx = np.argsort(scores)[-params['S_max']:]\n",
        "        selected = np.zeros(N, dtype=int)\n",
        "        selected[selected_idx] = 1\n",
        "        phi_val = np.zeros((N, N))\n",
        "\n",
        "    return selected, phi_val\n"
      ],
      "metadata": {
        "id": "4yxA6ksSLUU4"
      },
      "execution_count": 12,
      "outputs": []
    },
    {
      "cell_type": "markdown",
      "source": [
        "Federated Learning Preparation (Autoencoder Model)"
      ],
      "metadata": {
        "id": "h4_x8wHFMUEf"
      }
    },
    {
      "cell_type": "code",
      "source": [
        "import tensorflow as tf\n",
        "import tensorflow_federated as tff\n",
        "def create_tf_dataset(device):\n",
        "    x = device['Xn'].astype(np.float32)\n",
        "    ds = tf.data.Dataset.from_tensor_slices((x, x))\n",
        "    return ds.batch(10)\n",
        "\n",
        "def model_fn(num_movies):\n",
        "    keras_model = tf.keras.Sequential([\n",
        "        tf.keras.layers.Dense(2, activation='sigmoid', input_shape=(num_movies,)),\n",
        "        tf.keras.layers.Dense(num_movies, activation='sigmoid')\n",
        "    ])\n",
        "    return tff.learning.models.from_keras_model(\n",
        "        keras_model,\n",
        "        input_spec=(tf.TensorSpec([None, num_movies], tf.float32), tf.TensorSpec([None, num_movies], tf.float32)),\n",
        "        loss=tf.keras.losses.MeanSquaredError(),\n",
        "        metrics=[tf.keras.metrics.MeanAbsoluteError()]\n",
        "    )\n"
      ],
      "metadata": {
        "id": "2HV1ZYBlLYnv"
      },
      "execution_count": 13,
      "outputs": []
    },
    {
      "cell_type": "markdown",
      "source": [
        "Federated Learning Simulation Loop\n"
      ],
      "metadata": {
        "id": "jHQxESYwN5YJ"
      }
    },
    {
      "cell_type": "code",
      "source": [
        "num_movies = devices[0]['Xn'].shape[1]\n",
        "rounds = 15\n",
        "\n",
        "iterative_process = tff.learning.algorithms.build_weighted_fed_avg(\n",
        "    model_fn=lambda: model_fn(num_movies),\n",
        "    client_optimizer_fn=lambda: tf.keras.optimizers.Adam(1e-4),\n",
        "    server_optimizer_fn=lambda: tf.keras.optimizers.Adam(1e-3)\n",
        ")\n",
        "state = iterative_process.initialize()\n",
        "\n",
        "history = []\n",
        "\n",
        "for round_num in range(rounds):\n",
        "    print(f\"=== FL Round {round_num+1} ===\")\n",
        "    selected, phi = device_selection_with_offloading(devices, params)\n",
        "    selected_idx = np.where(selected == 1)[0]\n",
        "    print(f\"Selected devices: {selected_idx}\")\n",
        "\n",
        "    federated_train_data = [create_tf_dataset(devices[i]) for i in selected_idx]\n",
        "    if not federated_train_data:\n",
        "        print(\"No devices selected this round.\")\n",
        "        continue\n",
        "\n",
        "    result = iterative_process.next(state, federated_train_data)\n",
        "    state = result.state\n",
        "    loss = float(result.metrics['client_work']['train']['loss'])\n",
        "    print(f\"FL Loss: {loss:.4f}\")\n",
        "\n",
        "    history.append({\n",
        "        'round': round_num+1,\n",
        "        'selected': selected,\n",
        "        'phi': phi,\n",
        "        'loss': loss\n",
        "    })\n",
        "\n",
        "print(f\"Completed {len(history)} rounds of federated learning\")\n"
      ],
      "metadata": {
        "colab": {
          "base_uri": "https://localhost:8080/"
        },
        "id": "CG1QcgGtMWyF",
        "outputId": "7f51e605-4520-4339-845f-f13044c9764d"
      },
      "execution_count": 14,
      "outputs": [
        {
          "output_type": "stream",
          "name": "stdout",
          "text": [
            "=== FL Round 1 ===\n",
            "Selected devices: [0 1 2 3 4 5 6 7 8 9]\n",
            "FL Loss: 0.2484\n",
            "=== FL Round 2 ===\n",
            "Selected devices: [0 1 2 3 4 5 6 7 8 9]\n",
            "FL Loss: 0.2479\n",
            "=== FL Round 3 ===\n",
            "Selected devices: [0 1 2 3 4 5 6 7 8 9]\n",
            "FL Loss: 0.2474\n",
            "=== FL Round 4 ===\n",
            "Selected devices: [0 1 2 3 4 5 6 7 8 9]\n",
            "FL Loss: 0.2468\n",
            "=== FL Round 5 ===\n",
            "Selected devices: [0 1 2 3 4 5 6 7 8 9]\n",
            "FL Loss: 0.2462\n",
            "=== FL Round 6 ===\n",
            "Selected devices: [0 1 2 3 4 5 6 7 8 9]\n",
            "FL Loss: 0.2456\n",
            "=== FL Round 7 ===\n",
            "Selected devices: [0 1 2 3 4 5 6 7 8 9]\n",
            "FL Loss: 0.2450\n",
            "=== FL Round 8 ===\n",
            "Selected devices: [0 1 2 3 4 5 6 7 8 9]\n",
            "FL Loss: 0.2444\n",
            "=== FL Round 9 ===\n",
            "Selected devices: [0 1 2 3 4 5 6 7 8 9]\n",
            "FL Loss: 0.2438\n",
            "=== FL Round 10 ===\n",
            "Selected devices: [0 1 2 3 4 5 6 7 8 9]\n",
            "FL Loss: 0.2432\n",
            "=== FL Round 11 ===\n",
            "Selected devices: [0 1 2 3 4 5 6 7 8 9]\n",
            "FL Loss: 0.2425\n",
            "=== FL Round 12 ===\n",
            "Selected devices: [0 1 2 3 4 5 6 7 8 9]\n",
            "FL Loss: 0.2419\n",
            "=== FL Round 13 ===\n",
            "Selected devices: [0 1 2 3 4 5 6 7 8 9]\n",
            "FL Loss: 0.2413\n",
            "=== FL Round 14 ===\n",
            "Selected devices: [0 1 2 3 4 5 6 7 8 9]\n",
            "FL Loss: 0.2406\n",
            "=== FL Round 15 ===\n",
            "Selected devices: [0 1 2 3 4 5 6 7 8 9]\n",
            "FL Loss: 0.2400\n",
            "Completed 15 rounds of federated learning\n"
          ]
        }
      ]
    },
    {
      "cell_type": "markdown",
      "source": [
        "Content Popularity Prediction"
      ],
      "metadata": {
        "id": "rOU8M8T7QxW9"
      }
    },
    {
      "cell_type": "code",
      "source": [
        "# Extract final model for prediction\n",
        "keras_model = tf.keras.Sequential([\n",
        "    tf.keras.layers.Dense(2, activation='sigmoid', input_shape=(num_movies,)),\n",
        "    tf.keras.layers.Dense(num_movies, activation='sigmoid')\n",
        "])\n",
        "\n",
        "# Predict popularity using identity matrix\n",
        "all_movies = np.eye(num_movies, dtype=np.float32)\n",
        "popularity_scores = keras_model.predict(all_movies, verbose=0).mean(axis=0)\n",
        "top_movies = np.argsort(popularity_scores)[::-1]\n",
        "\n",
        "print(f\"Top 10 most popular movie indices: {top_movies[:10]}\")\n"
      ],
      "metadata": {
        "colab": {
          "base_uri": "https://localhost:8080/"
        },
        "id": "bb9TTRqQN_dO",
        "outputId": "675c674f-11b2-4a8a-b5ac-7f27c082ead7"
      },
      "execution_count": 15,
      "outputs": [
        {
          "output_type": "stream",
          "name": "stdout",
          "text": [
            "Top 10 most popular movie indices: [ 831 2462 2133 1180 1799  354 1990 3286 3822 2310]\n"
          ]
        }
      ]
    },
    {
      "cell_type": "markdown",
      "source": [
        "Cache Efficiency Calculation"
      ],
      "metadata": {
        "id": "GF-WAaOORBWW"
      }
    },
    {
      "cell_type": "code",
      "source": [
        "def cache_efficiency(top_movies, devices, cache_sizes=[50, 100, 200, 300, 500]):\n",
        "    efficiencies = []\n",
        "    for cache_size in cache_sizes:\n",
        "        cached = set(top_movies[:cache_size])\n",
        "        total, hits = 0, 0\n",
        "        for dev in devices:\n",
        "            for user in dev['Xn']:\n",
        "                requested = np.where(user == 1)[0]\n",
        "                total += len(requested)\n",
        "                hits += len(set(requested) & cached)\n",
        "        eff = hits / total if total else 0\n",
        "        efficiencies.append(eff)\n",
        "    return cache_sizes, efficiencies\n",
        "\n",
        "cache_sizes, efficiencies = cache_efficiency(top_movies, devices)\n",
        "\n",
        "print(\"\\n=== CACHE EFFICIENCY RESULTS ===\")\n",
        "for size, eff in zip(cache_sizes, efficiencies):\n",
        "    print(f\"Cache size {size}: Efficiency {eff*100:.2f}%\")\n",
        "\n",
        "max_eff = max(efficiencies)\n",
        "best_cache_size = cache_sizes[np.argmax(efficiencies)]\n",
        "print(f\"\\nBest cache efficiency: {max_eff*100:.2f}% at cache size {best_cache_size}\")\n"
      ],
      "metadata": {
        "colab": {
          "base_uri": "https://localhost:8080/"
        },
        "id": "83a_zQPcQ_Tt",
        "outputId": "49cf227f-a78c-4ff2-8fa8-3b140ab4c07e"
      },
      "execution_count": 16,
      "outputs": [
        {
          "output_type": "stream",
          "name": "stdout",
          "text": [
            "\n",
            "=== CACHE EFFICIENCY RESULTS ===\n",
            "Cache size 50: Efficiency 1.28%\n",
            "Cache size 100: Efficiency 2.76%\n",
            "Cache size 200: Efficiency 5.44%\n",
            "Cache size 300: Efficiency 8.10%\n",
            "Cache size 500: Efficiency 13.25%\n",
            "\n",
            "Best cache efficiency: 13.25% at cache size 500\n"
          ]
        }
      ]
    },
    {
      "cell_type": "markdown",
      "source": [
        "Results Visualization"
      ],
      "metadata": {
        "id": "6e3u6KyORFMM"
      }
    },
    {
      "cell_type": "code",
      "source": [
        "import matplotlib.pyplot as plt\n",
        "# Plot training progress\n",
        "plt.figure(figsize=(15, 5))\n",
        "\n",
        "# Plot 1: Training loss\n",
        "plt.subplot(1, 3, 1)\n",
        "rounds_completed = [h['round'] for h in history]\n",
        "losses = [h['loss'] for h in history]\n",
        "plt.plot(rounds_completed, losses, 'b-o')\n",
        "plt.xlabel('FL Round')\n",
        "plt.ylabel('Training Loss')\n",
        "plt.title('Federated Learning Progress')\n",
        "plt.grid(True)\n",
        "\n",
        "# Plot 2: Device selection frequency\n",
        "plt.subplot(1, 3, 2)\n",
        "device_selection_count = np.zeros(len(devices))\n",
        "for h in history:\n",
        "    device_selection_count += h['selected']\n",
        "plt.bar(range(len(devices)), device_selection_count)\n",
        "plt.xlabel('Device ID')\n",
        "plt.ylabel('Selection Frequency')\n",
        "plt.title('Device Selection Frequency')\n",
        "plt.grid(True)\n",
        "\n",
        "# Plot 3: Cache efficiency\n",
        "plt.subplot(1, 3, 3)\n",
        "plt.plot(cache_sizes, [e*100 for e in efficiencies], 'r-^')\n",
        "plt.xlabel('Cache Size')\n",
        "plt.ylabel('Cache Efficiency (%)')\n",
        "plt.title('Cache Efficiency vs Cache Size')\n",
        "plt.grid(True)\n",
        "\n",
        "plt.tight_layout()\n",
        "plt.show()\n",
        "\n",
        "# Summary\n",
        "print(f\"\\n=== FINAL SUMMARY ===\")\n",
        "print(f\"Completed rounds: {len(history)}\")\n",
        "print(f\"Final training loss: {losses[-1]:.4f}\")\n",
        "print(f\"Average devices selected per round: {np.mean([np.sum(h['selected']) for h in history]):.2f}\")\n",
        "print(f\"Maximum cache efficiency achieved: {max_eff*100:.2f}%\")\n"
      ],
      "metadata": {
        "colab": {
          "base_uri": "https://localhost:8080/",
          "height": 453
        },
        "id": "cBFCS3yKRDX1",
        "outputId": "191185d3-0bda-4fcb-e5cc-20c4418ea927"
      },
      "execution_count": 18,
      "outputs": [
        {
          "output_type": "display_data",
          "data": {
            "text/plain": [
              "<Figure size 1500x500 with 3 Axes>"
            ],
            "image/png": "[encoded data removed]"
          },
          "metadata": {}
        },
        {
          "output_type": "stream",
          "name": "stdout",
          "text": [
            "\n",
            "=== FINAL SUMMARY ===\n",
            "Completed rounds: 15\n",
            "Final training loss: 0.2400\n",
            "Average devices selected per round: 10.00\n",
            "Maximum cache efficiency achieved: 13.25%\n"
          ]
        }
      ]
    },
    {
      "cell_type": "code",
      "source": [],
      "metadata": {
        "id": "0DVXATZXRHJP"
      },
      "execution_count": null,
      "outputs": []
    }
  ]
}