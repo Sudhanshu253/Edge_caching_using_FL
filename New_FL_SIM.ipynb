{
  "nbformat": 4,
  "nbformat_minor": 0,
  "metadata": {
    "colab": {
      "provenance": []
    },
    "kernelspec": {
      "name": "python3",
      "display_name": "Python 3"
    },
    "language_info": {
      "name": "python"
    }
  },
  "cells": [
    {
      "cell_type": "code",
      "source": [
        "# !pip install --quiet numpy==1.25.2 scipy tensorflow==2.14.1 tensorflow_federated==0.84.0\n",
        "!pip uninstall -y numpy pandas\n",
        "!pip install numpy==1.25.2 pandas==2.0.3 --force-reinstall --no-cache-dir\n"
      ],
      "metadata": {
        "colab": {
          "base_uri": "https://localhost:8080/",
          "height": 1000
        },
        "id": "JCwF2yG7ZEm3",
        "outputId": "d7507bbe-de98-415a-adc2-76478ef37121"
      },
      "execution_count": 1,
      "outputs": [
        {
          "output_type": "stream",
          "name": "stdout",
          "text": [
            "Found existing installation: numpy 1.25.2\n",
            "Uninstalling numpy-1.25.2:\n",
            "  Successfully uninstalled numpy-1.25.2\n",
            "Found existing installation: pandas 2.0.3\n",
            "Uninstalling pandas-2.0.3:\n",
            "  Successfully uninstalled pandas-2.0.3\n",
            "Collecting numpy==1.25.2\n",
            "  Downloading numpy-1.25.2-cp311-cp311-manylinux_2_17_x86_64.manylinux2014_x86_64.whl.metadata (5.6 kB)\n",
            "Collecting pandas==2.0.3\n",
            "  Downloading pandas-2.0.3-cp311-cp311-manylinux_2_17_x86_64.manylinux2014_x86_64.whl.metadata (18 kB)\n",
            "Collecting python-dateutil>=2.8.2 (from pandas==2.0.3)\n",
            "  Downloading python_dateutil-2.9.0.post0-py2.py3-none-any.whl.metadata (8.4 kB)\n",
            "Collecting pytz>=2020.1 (from pandas==2.0.3)\n",
            "  Downloading pytz-2025.2-py2.py3-none-any.whl.metadata (22 kB)\n",
            "Collecting tzdata>=2022.1 (from pandas==2.0.3)\n",
            "  Downloading tzdata-2025.2-py2.py3-none-any.whl.metadata (1.4 kB)\n",
            "Collecting six>=1.5 (from python-dateutil>=2.8.2->pandas==2.0.3)\n",
            "  Downloading six-1.17.0-py2.py3-none-any.whl.metadata (1.7 kB)\n",
            "Downloading numpy-1.25.2-cp311-cp311-manylinux_2_17_x86_64.manylinux2014_x86_64.whl (18.2 MB)\n",
            "\u001b[2K   \u001b[90m━━━━━━━━━━━━━━━━━━━━━━━━━━━━━━━━━━━━━━━━\u001b[0m \u001b[32m18.2/18.2 MB\u001b[0m \u001b[31m236.9 MB/s\u001b[0m eta \u001b[36m0:00:00\u001b[0m\n",
            "\u001b[?25hDownloading pandas-2.0.3-cp311-cp311-manylinux_2_17_x86_64.manylinux2014_x86_64.whl (12.2 MB)\n",
            "\u001b[2K   \u001b[90m━━━━━━━━━━━━━━━━━━━━━━━━━━━━━━━━━━━━━━━━\u001b[0m \u001b[32m12.2/12.2 MB\u001b[0m \u001b[31m269.3 MB/s\u001b[0m eta \u001b[36m0:00:00\u001b[0m\n",
            "\u001b[?25hDownloading python_dateutil-2.9.0.post0-py2.py3-none-any.whl (229 kB)\n",
            "\u001b[2K   \u001b[90m━━━━━━━━━━━━━━━━━━━━━━━━━━━━━━━━━━━━━━━\u001b[0m \u001b[32m229.9/229.9 kB\u001b[0m \u001b[31m312.9 MB/s\u001b[0m eta \u001b[36m0:00:00\u001b[0m\n",
            "\u001b[?25hDownloading pytz-2025.2-py2.py3-none-any.whl (509 kB)\n",
            "\u001b[2K   \u001b[90m━━━━━━━━━━━━━━━━━━━━━━━━━━━━━━━━━━━━━━━\u001b[0m \u001b[32m509.2/509.2 kB\u001b[0m \u001b[31m254.7 MB/s\u001b[0m eta \u001b[36m0:00:00\u001b[0m\n",
            "\u001b[?25hDownloading tzdata-2025.2-py2.py3-none-any.whl (347 kB)\n",
            "\u001b[2K   \u001b[90m━━━━━━━━━━━━━━━━━━━━━━━━━━━━━━━━━━━━━━━\u001b[0m \u001b[32m347.8/347.8 kB\u001b[0m \u001b[31m309.4 MB/s\u001b[0m eta \u001b[36m0:00:00\u001b[0m\n",
            "\u001b[?25hDownloading six-1.17.0-py2.py3-none-any.whl (11 kB)\n",
            "Installing collected packages: pytz, tzdata, six, numpy, python-dateutil, pandas\n",
            "  Attempting uninstall: pytz\n",
            "    Found existing installation: pytz 2025.2\n",
            "    Uninstalling pytz-2025.2:\n",
            "      Successfully uninstalled pytz-2025.2\n",
            "  Attempting uninstall: tzdata\n",
            "    Found existing installation: tzdata 2025.2\n",
            "    Uninstalling tzdata-2025.2:\n",
            "      Successfully uninstalled tzdata-2025.2\n",
            "  Attempting uninstall: six\n",
            "    Found existing installation: six 1.17.0\n",
            "    Uninstalling six-1.17.0:\n",
            "      Successfully uninstalled six-1.17.0\n",
            "  Attempting uninstall: python-dateutil\n",
            "    Found existing installation: python-dateutil 2.9.0.post0\n",
            "    Uninstalling python-dateutil-2.9.0.post0:\n",
            "      Successfully uninstalled python-dateutil-2.9.0.post0\n",
            "\u001b[31mERROR: pip's dependency resolver does not currently take into account all the packages that are installed. This behaviour is the source of the following dependency conflicts.\n",
            "google-colab 1.0.0 requires google-auth==2.38.0, but you have google-auth 2.40.3 which is incompatible.\n",
            "google-colab 1.0.0 requires pandas==2.2.2, but you have pandas 2.0.3 which is incompatible.\n",
            "google-colab 1.0.0 requires portpicker==1.5.2, but you have portpicker 1.6.0 which is incompatible.\n",
            "google-colab 1.0.0 requires requests==2.32.3, but you have requests 2.32.4 which is incompatible.\n",
            "thinc 8.3.6 requires numpy<3.0.0,>=2.0.0, but you have numpy 1.25.2 which is incompatible.\n",
            "albumentations 2.0.8 requires scipy>=1.10.0, but you have scipy 1.9.3 which is incompatible.\n",
            "tensorstore 0.1.74 requires ml_dtypes>=0.3.1, but you have ml-dtypes 0.2.0 which is incompatible.\n",
            "tsfresh 0.21.0 requires scipy>=1.14.0; python_version >= \"3.10\", but you have scipy 1.9.3 which is incompatible.\n",
            "ydf 0.12.0 requires protobuf<6.0.0,>=5.29.1, but you have protobuf 4.25.8 which is incompatible.\n",
            "sklearn-compat 0.1.3 requires scikit-learn<1.7,>=1.2, but you have scikit-learn 1.7.0 which is incompatible.\n",
            "optax 0.2.5 requires jax>=0.4.27, but you have jax 0.4.14 which is incompatible.\n",
            "optax 0.2.5 requires jaxlib>=0.4.27, but you have jaxlib 0.4.14 which is incompatible.\n",
            "orbax-checkpoint 0.11.16 requires jax>=0.5.0, but you have jax 0.4.14 which is incompatible.\n",
            "tensorflow-decision-forests 1.11.0 requires tensorflow==2.18.0, but you have tensorflow 2.14.1 which is incompatible.\n",
            "tensorflow-text 2.18.1 requires tensorflow<2.19,>=2.18.0, but you have tensorflow 2.14.1 which is incompatible.\n",
            "tf-keras 2.18.0 requires tensorflow<2.19,>=2.18, but you have tensorflow 2.14.1 which is incompatible.\n",
            "xarray 2025.3.1 requires packaging>=23.2, but you have packaging 22.0 which is incompatible.\n",
            "xarray 2025.3.1 requires pandas>=2.1, but you have pandas 2.0.3 which is incompatible.\n",
            "plotnine 0.14.6 requires pandas>=2.2.0, but you have pandas 2.0.3 which is incompatible.\n",
            "google-cloud-bigquery 3.34.0 requires packaging>=24.2.0, but you have packaging 22.0 which is incompatible.\n",
            "stumpy 1.13.0 requires scipy>=1.10, but you have scipy 1.9.3 which is incompatible.\n",
            "db-dtypes 1.4.3 requires packaging>=24.2.0, but you have packaging 22.0 which is incompatible.\n",
            "imbalanced-learn 0.13.0 requires scipy<2,>=1.10.1, but you have scipy 1.9.3 which is incompatible.\n",
            "mizani 0.13.5 requires pandas>=2.2.0, but you have pandas 2.0.3 which is incompatible.\n",
            "chex 0.1.89 requires jax>=0.4.27, but you have jax 0.4.14 which is incompatible.\n",
            "chex 0.1.89 requires jaxlib>=0.4.27, but you have jaxlib 0.4.14 which is incompatible.\n",
            "flax 0.10.6 requires jax>=0.5.1, but you have jax 0.4.14 which is incompatible.\n",
            "scikit-image 0.25.2 requires scipy>=1.11.4, but you have scipy 1.9.3 which is incompatible.\n",
            "moviepy 1.0.3 requires decorator<5.0,>=4.0.2, but you have decorator 5.2.1 which is incompatible.\n",
            "blosc2 3.5.0 requires numpy>=1.26, but you have numpy 1.25.2 which is incompatible.\n",
            "ipython-sql 0.5.0 requires sqlalchemy>=2.0, but you have sqlalchemy 1.4.20 which is incompatible.\n",
            "nibabel 5.3.2 requires typing-extensions>=4.6; python_version < \"3.13\", but you have typing-extensions 4.5.0 which is incompatible.\n",
            "xarray-einstats 0.9.1 requires scipy>=1.11, but you have scipy 1.9.3 which is incompatible.\u001b[0m\u001b[31m\n",
            "\u001b[0mSuccessfully installed numpy-1.25.2 pandas-2.0.3 python-dateutil-2.9.0.post0 pytz-2025.2 six-1.17.0 tzdata-2025.2\n"
          ]
        },
        {
          "output_type": "display_data",
          "data": {
            "application/vnd.colab-display-data+json": {
              "pip_warning": {
                "packages": [
                  "dateutil",
                  "numpy",
                  "six"
                ]
              },
              "id": "f040bb367797498898cca70e3fee83ac"
            }
          },
          "metadata": {}
        }
      ]
    },
    {
      "cell_type": "code",
      "source": [
        "import numpy  as np"
      ],
      "metadata": {
        "id": "zwnJ9NcUdRUe"
      },
      "execution_count": 1,
      "outputs": []
    },
    {
      "cell_type": "code",
      "source": [
        "import pandas as pd\n"
      ],
      "metadata": {
        "id": "SaB7IViQdfb9"
      },
      "execution_count": 2,
      "outputs": []
    },
    {
      "cell_type": "markdown",
      "source": [
        "Load MovieLens 1M Data (Handles Encoding)"
      ],
      "metadata": {
        "id": "026mw9UZe7GK"
      }
    },
    {
      "cell_type": "code",
      "source": [
        "# Use ISO-8859-1 encoding as per dataset documentation and community advice[5][6]\n",
        "users = pd.read_csv('/content/users.dat', sep='::', engine='python',\n",
        "                    names=['UserID', 'Gender', 'Age', 'Occupation', 'Zip-code'],\n",
        "                    encoding='ISO-8859-1')\n",
        "ratings = pd.read_csv('/content/ratings.dat', sep='::', engine='python',\n",
        "                      names=['UserID', 'MovieID', 'Rating', 'Timestamp'],\n",
        "                      encoding='ISO-8859-1')\n",
        "movies = pd.read_csv('/content/movies.dat', sep='::', engine='python',\n",
        "                     names=['MovieID', 'Title', 'Genres'],\n",
        "                     encoding='ISO-8859-1')\n",
        "\n",
        "# Map user and movie IDs to indices\n",
        "user_id_map = {uid: idx for idx, uid in enumerate(users['UserID'].unique())}\n",
        "movie_id_map = {mid: idx for idx, mid in enumerate(movies['MovieID'].unique())}\n",
        "\n",
        "num_users = len(user_id_map)\n",
        "num_movies = len(movie_id_map)\n",
        "\n",
        "# Build binary user-movie request matrix\n",
        "request_matrix = np.zeros((num_users, num_movies), dtype=np.int8)\n",
        "for row in ratings.itertuples():\n",
        "    uidx = user_id_map[row.UserID]\n",
        "    midx = movie_id_map[row.MovieID]\n",
        "    request_matrix[uidx, midx] = 1\n",
        "\n",
        "print(f\"Users: {num_users}, Movies: {num_movies}, Matrix shape: {request_matrix.shape}\")\n",
        "\n",
        "\n",
        "print(\"\\nStart 5 Users:\")\n",
        "print(users.head())\n",
        "\n",
        "print(\"\\nStart 5 Ratings:\")\n",
        "print(ratings.head())\n",
        "\n",
        "print(\"\\nStart 5 Movies:\")\n",
        "print(movies.head())\n",
        "\n",
        "print(\"\\nStart 5 Rows of Request Matrix (Users × All Movies):\")\n",
        "print(request_matrix[:5])  # Rows: users 0–4, All movies\n",
        "\n",
        "print(\"\\nRequest Matrix: First 5 Users × First 10 Movies\")\n",
        "print(pd.DataFrame(request_matrix[:5, :10]))  # Preview in DataFrame"
      ],
      "metadata": {
        "colab": {
          "base_uri": "https://localhost:8080/"
        },
        "id": "OdEyX1MUdXVf",
        "outputId": "a4d788b8-58b9-4348-b3e1-d9619b1c090e"
      },
      "execution_count": 78,
      "outputs": [
        {
          "output_type": "stream",
          "name": "stdout",
          "text": [
            "Users: 6040, Movies: 3883, Matrix shape: (6040, 3883)\n",
            "\n",
            "Start 5 Users:\n",
            "   UserID Gender  Age  Occupation Zip-code\n",
            "0       1      F    1          10    48067\n",
            "1       2      M   56          16    70072\n",
            "2       3      M   25          15    55117\n",
            "3       4      M   45           7    02460\n",
            "4       5      M   25          20    55455\n",
            "\n",
            "Start 5 Ratings:\n",
            "   UserID  MovieID  Rating  Timestamp\n",
            "0       1     1193       5  978300760\n",
            "1       1      661       3  978302109\n",
            "2       1      914       3  978301968\n",
            "3       1     3408       4  978300275\n",
            "4       1     2355       5  978824291\n",
            "\n",
            "Start 5 Movies:\n",
            "   MovieID                               Title                        Genres\n",
            "0        1                    Toy Story (1995)   Animation|Children's|Comedy\n",
            "1        2                      Jumanji (1995)  Adventure|Children's|Fantasy\n",
            "2        3             Grumpier Old Men (1995)                Comedy|Romance\n",
            "3        4            Waiting to Exhale (1995)                  Comedy|Drama\n",
            "4        5  Father of the Bride Part II (1995)                        Comedy\n",
            "\n",
            "Start 5 Rows of Request Matrix (Users × All Movies):\n",
            "[[1 0 0 ... 0 0 0]\n",
            " [0 0 0 ... 0 0 0]\n",
            " [0 0 0 ... 0 0 0]\n",
            " [0 0 0 ... 0 0 0]\n",
            " [0 0 0 ... 0 0 0]]\n",
            "\n",
            "Request Matrix: First 5 Users × First 10 Movies\n",
            "   0  1  2  3  4  5  6  7  8  9\n",
            "0  1  0  0  0  0  0  0  0  0  0\n",
            "1  0  0  0  0  0  0  0  0  0  0\n",
            "2  0  0  0  0  0  0  0  0  0  0\n",
            "3  0  0  0  0  0  0  0  0  0  0\n",
            "4  0  0  0  0  0  1  0  0  0  0\n"
          ]
        }
      ]
    },
    {
      "cell_type": "markdown",
      "source": [
        "Simulation Parameters and Device Initialization"
      ],
      "metadata": {
        "id": "rxmnzUSEe8Qq"
      }
    },
    {
      "cell_type": "code",
      "source": [
        "# Simulation parameters from your table[3][4]\n",
        "N = 10  # Number of devices\n",
        "users_per_device = num_users // N  # num_users must be defined already\n",
        "np.random.seed(42)\n",
        "\n",
        "devices = []\n",
        "for n in range(N):\n",
        "    # Get user slice for device n\n",
        "    start = n * users_per_device\n",
        "    end = (n + 1) * users_per_device if n < N - 1 else num_users\n",
        "    Xn = request_matrix[start:end]  # User-movie request submatrix for this device\n",
        "\n",
        "    # Local training data and device characteristics\n",
        "    Dn = np.random.randint(20, 51)                              # Number of samples\n",
        "    wn = np.random.uniform(50, 100) * 8 * 1e6                   # Model upload size (in bits)\n",
        "    alpha_n = np.random.uniform(18, 20.5) * 1e5                 # Data arrival rate\n",
        "    Cn = np.random.randint(40, 61)                              # CPU cycles per sample\n",
        "    Pn = np.random.uniform(0.01, 0.05)                          # Transmit power\n",
        "    gamma_n = 10                                                # SNR (linear)\n",
        "\n",
        "    # Cosine similarity (rho_n)\n",
        "    if Xn.shape[0] > 1:\n",
        "        sims = []\n",
        "        for i in range(Xn.shape[0]):\n",
        "            for j in range(i + 1, Xn.shape[0]):\n",
        "                a, b = Xn[i], Xn[j]\n",
        "                if np.linalg.norm(a) and np.linalg.norm(b):\n",
        "                    sims.append(np.dot(a, b) / (np.linalg.norm(a) * np.linalg.norm(b)))\n",
        "        rho_n = np.mean(sims) if sims else 0.0\n",
        "    else:\n",
        "        rho_n = 0.0\n",
        "\n",
        "    # Content request volume z_n\n",
        "    z_n = Xn.sum()\n",
        "    print(f\"Device {n}: z_n = {z_n}\")  # ✅ Print z_n for each device\n",
        "\n",
        "    # Add device to the list\n",
        "    devices.append({\n",
        "        'Xn': Xn,\n",
        "        'Dn': Dn,\n",
        "        'wn': wn,\n",
        "        'alpha_n': alpha_n,\n",
        "        'Cn': Cn,\n",
        "        'Pn': Pn,\n",
        "        'gamma_n': gamma_n,\n",
        "        'rho_n': rho_n,\n",
        "        'z_n': z_n\n",
        "    })"
      ],
      "metadata": {
        "colab": {
          "base_uri": "https://localhost:8080/"
        },
        "id": "aX0VhiAudbv0",
        "outputId": "279122d0-82ad-400c-d5c9-b42d4d9507c6"
      },
      "execution_count": 97,
      "outputs": [
        {
          "output_type": "stream",
          "name": "stdout",
          "text": [
            "Device 0: z_n = 91373\n",
            "Device 1: z_n = 105524\n",
            "Device 2: z_n = 108351\n",
            "Device 3: z_n = 98968\n",
            "Device 4: z_n = 87065\n",
            "Device 5: z_n = 104701\n",
            "Device 6: z_n = 110051\n",
            "Device 7: z_n = 101425\n",
            "Device 8: z_n = 92011\n",
            "Device 9: z_n = 100740\n"
          ]
        }
      ]
    },
    {
      "cell_type": "code",
      "source": [
        "for i, dev in enumerate(devices):\n",
        "    print(f\"\\nDevice {i} - Xn shape: {dev['Xn'].shape}\")\n",
        "    print(dev['Xn'])  # This prints the request matrix for device i\n",
        "    print(f\"Total movie requests (Xn.sum): {dev['Xn'].sum()}\")"
      ],
      "metadata": {
        "colab": {
          "base_uri": "https://localhost:8080/"
        },
        "id": "pOZY0UwUAJHZ",
        "outputId": "1eb5ae6b-2c2c-44a1-f9cd-6e5705d02eda"
      },
      "execution_count": 98,
      "outputs": [
        {
          "output_type": "stream",
          "name": "stdout",
          "text": [
            "\n",
            "Device 0 - Xn shape: (604, 3883)\n",
            "[[1 0 0 ... 0 0 0]\n",
            " [0 0 0 ... 0 0 0]\n",
            " [0 0 0 ... 0 0 0]\n",
            " ...\n",
            " [0 0 0 ... 0 0 0]\n",
            " [0 0 0 ... 0 0 1]\n",
            " [0 0 0 ... 0 0 0]]\n",
            "Total movie requests (Xn.sum): 91373\n",
            "\n",
            "Device 1 - Xn shape: (604, 3883)\n",
            "[[1 0 0 ... 0 0 0]\n",
            " [1 0 0 ... 0 0 0]\n",
            " [0 0 0 ... 0 0 0]\n",
            " ...\n",
            " [0 0 0 ... 0 0 0]\n",
            " [1 1 0 ... 0 0 0]\n",
            " [0 0 0 ... 0 0 0]]\n",
            "Total movie requests (Xn.sum): 105524\n",
            "\n",
            "Device 2 - Xn shape: (604, 3883)\n",
            "[[0 0 0 ... 0 0 1]\n",
            " [0 0 0 ... 0 0 0]\n",
            " [1 0 0 ... 1 0 0]\n",
            " ...\n",
            " [0 0 0 ... 1 0 1]\n",
            " [0 0 0 ... 0 0 0]\n",
            " [0 0 0 ... 0 0 1]]\n",
            "Total movie requests (Xn.sum): 108351\n",
            "\n",
            "Device 3 - Xn shape: (604, 3883)\n",
            "[[0 0 0 ... 0 0 0]\n",
            " [0 0 0 ... 0 0 1]\n",
            " [0 0 0 ... 0 0 0]\n",
            " ...\n",
            " [1 0 0 ... 0 0 0]\n",
            " [0 0 0 ... 0 0 0]\n",
            " [0 0 0 ... 1 0 1]]\n",
            "Total movie requests (Xn.sum): 98968\n",
            "\n",
            "Device 4 - Xn shape: (604, 3883)\n",
            "[[0 0 0 ... 0 0 0]\n",
            " [1 0 0 ... 0 0 0]\n",
            " [0 0 1 ... 0 0 1]\n",
            " ...\n",
            " [1 0 0 ... 0 0 0]\n",
            " [0 0 0 ... 0 0 0]\n",
            " [0 0 0 ... 0 0 0]]\n",
            "Total movie requests (Xn.sum): 87065\n",
            "\n",
            "Device 5 - Xn shape: (604, 3883)\n",
            "[[0 0 0 ... 0 0 0]\n",
            " [0 0 0 ... 0 0 0]\n",
            " [0 0 0 ... 0 0 0]\n",
            " ...\n",
            " [1 0 0 ... 0 0 0]\n",
            " [0 0 0 ... 0 0 0]\n",
            " [1 1 0 ... 0 0 0]]\n",
            "Total movie requests (Xn.sum): 104701\n",
            "\n",
            "Device 6 - Xn shape: (604, 3883)\n",
            "[[0 0 0 ... 0 0 0]\n",
            " [1 1 1 ... 0 0 0]\n",
            " [0 0 0 ... 0 0 0]\n",
            " ...\n",
            " [1 0 0 ... 0 0 0]\n",
            " [0 1 1 ... 0 0 0]\n",
            " [0 0 0 ... 0 0 0]]\n",
            "Total movie requests (Xn.sum): 110051\n",
            "\n",
            "Device 7 - Xn shape: (604, 3883)\n",
            "[[1 0 0 ... 0 0 0]\n",
            " [0 0 0 ... 0 0 0]\n",
            " [1 0 0 ... 0 0 0]\n",
            " ...\n",
            " [1 1 0 ... 0 0 0]\n",
            " [1 0 0 ... 0 0 1]\n",
            " [0 0 0 ... 0 0 0]]\n",
            "Total movie requests (Xn.sum): 101425\n",
            "\n",
            "Device 8 - Xn shape: (604, 3883)\n",
            "[[0 0 0 ... 0 0 0]\n",
            " [1 1 0 ... 0 0 1]\n",
            " [1 0 0 ... 0 0 0]\n",
            " ...\n",
            " [0 0 0 ... 0 0 0]\n",
            " [0 0 0 ... 0 0 0]\n",
            " [0 0 0 ... 0 0 0]]\n",
            "Total movie requests (Xn.sum): 92011\n",
            "\n",
            "Device 9 - Xn shape: (604, 3883)\n",
            "[[0 0 0 ... 0 0 0]\n",
            " [0 0 0 ... 0 0 0]\n",
            " [0 0 0 ... 0 0 0]\n",
            " ...\n",
            " [0 0 0 ... 0 0 0]\n",
            " [0 0 0 ... 0 0 0]\n",
            " [1 0 0 ... 0 0 0]]\n",
            "Total movie requests (Xn.sum): 100740\n"
          ]
        }
      ]
    },
    {
      "cell_type": "markdown",
      "source": [
        "Latency and Energy Calculation"
      ],
      "metadata": {
        "id": "BQFtaA6Ne-92"
      }
    },
    {
      "cell_type": "code",
      "source": [
        "def calc_latency_energy(dev):\n",
        "    wS = 75 * 8 * 1e6  # 75 MB in bits\n",
        "    Bdn_S = 150e6\n",
        "    Bup_n = 100e6\n",
        "    mu_n = 1\n",
        "    f_n = 1e9\n",
        "    beta_n = 1e-27\n",
        "    P_dn_S = 1.0\n",
        "\n",
        "    t_dn = wS / (Bdn_S * np.log2(1 + dev['gamma_n']))\n",
        "    e_dn = P_dn_S * t_dn\n",
        "    t_comp = mu_n * dev['Cn'] * dev['Dn'] / f_n\n",
        "    e_comp = beta_n * mu_n * dev['Cn'] * dev['Dn'] * f_n ** 2\n",
        "    t_up = dev['wn'] / (Bup_n * np.log2(1 + dev['gamma_n']))\n",
        "    e_up = dev['Pn'] * t_up\n",
        "    return t_dn + t_comp + t_up, e_dn + e_comp + e_up\n",
        "\n",
        "for dev in devices:\n",
        "    t_sec, e_joule = calc_latency_energy(dev)\n",
        "    dev['t_n'] = t_sec * 1000     # Convert seconds → milliseconds\n",
        "    dev['e_n'] = e_joule * 1000   # Optional: Convert joules → millijoules if your constraints are in mJ\n"
      ],
      "metadata": {
        "id": "CE05V7tIemJ9"
      },
      "execution_count": 99,
      "outputs": []
    },
    {
      "cell_type": "markdown",
      "source": [
        "Device Selection Optimization (Constraints 1a–1j)"
      ],
      "metadata": {
        "id": "N0DvUHK5fLQi"
      }
    },
    {
      "cell_type": "code",
      "source": [
        "!pip install cvxpy\n",
        "!pip install ecos\n"
      ],
      "metadata": {
        "colab": {
          "base_uri": "https://localhost:8080/"
        },
        "id": "lyqmPsCzfCtV",
        "outputId": "cfd84c7c-78a7-4d33-9830-18eda01e6151"
      },
      "execution_count": 6,
      "outputs": [
        {
          "output_type": "stream",
          "name": "stdout",
          "text": [
            "Requirement already satisfied: cvxpy in /usr/local/lib/python3.11/dist-packages (1.4.2)\n",
            "Requirement already satisfied: osqp>=0.6.2 in /usr/local/lib/python3.11/dist-packages (from cvxpy) (1.0.4)\n",
            "Requirement already satisfied: ecos>=2 in /usr/local/lib/python3.11/dist-packages (from cvxpy) (2.0.12)\n",
            "Requirement already satisfied: clarabel>=0.5.0 in /usr/local/lib/python3.11/dist-packages (from cvxpy) (0.11.1)\n",
            "Requirement already satisfied: scs>=3.0 in /usr/local/lib/python3.11/dist-packages (from cvxpy) (3.2.7.post2)\n",
            "Requirement already satisfied: numpy>=1.15 in /usr/local/lib/python3.11/dist-packages (from cvxpy) (1.25.2)\n",
            "Requirement already satisfied: scipy>=1.1.0 in /usr/local/lib/python3.11/dist-packages (from cvxpy) (1.9.3)\n",
            "Requirement already satisfied: pybind11 in /usr/local/lib/python3.11/dist-packages (from cvxpy) (2.13.6)\n",
            "Requirement already satisfied: cffi in /usr/local/lib/python3.11/dist-packages (from clarabel>=0.5.0->cvxpy) (1.17.1)\n",
            "Requirement already satisfied: jinja2 in /usr/local/lib/python3.11/dist-packages (from osqp>=0.6.2->cvxpy) (3.1.6)\n",
            "Requirement already satisfied: setuptools in /usr/local/lib/python3.11/dist-packages (from osqp>=0.6.2->cvxpy) (80.9.0)\n",
            "Requirement already satisfied: joblib in /usr/local/lib/python3.11/dist-packages (from osqp>=0.6.2->cvxpy) (1.5.1)\n",
            "Requirement already satisfied: pycparser in /usr/local/lib/python3.11/dist-packages (from cffi->clarabel>=0.5.0->cvxpy) (2.22)\n",
            "Requirement already satisfied: MarkupSafe>=2.0 in /usr/local/lib/python3.11/dist-packages (from jinja2->osqp>=0.6.2->cvxpy) (3.0.2)\n",
            "Requirement already satisfied: ecos in /usr/local/lib/python3.11/dist-packages (2.0.12)\n",
            "Requirement already satisfied: numpy>=1.6 in /usr/local/lib/python3.11/dist-packages (from ecos) (1.25.2)\n",
            "Requirement already satisfied: scipy>=0.9 in /usr/local/lib/python3.11/dist-packages (from ecos) (1.9.3)\n"
          ]
        }
      ]
    },
    {
      "cell_type": "markdown",
      "source": [
        "Define Parameters"
      ],
      "metadata": {
        "id": "Ez8va3d9fZXK"
      }
    },
    {
      "cell_type": "code",
      "source": [
        "# Define simulation parameters from your constraint table\n",
        "params = {\n",
        "    'z_min': 800,\n",
        "    'z_max': 7000,\n",
        "    'D_max': 40,\n",
        "    't_max': 1e-3,      # 1 ms\n",
        "    'e_max': 1e-3,      # 1 mJ\n",
        "    'S_min': 2,\n",
        "    'S_max': 10         # Use 10 as per your table\n",
        "}\n",
        "\n",
        "print(\"Parameters defined:\", params)\n"
      ],
      "metadata": {
        "colab": {
          "base_uri": "https://localhost:8080/"
        },
        "id": "RIaYM4l8fSLZ",
        "outputId": "0e6b9ea1-bbbc-4e83-fc75-a9b5c754f586"
      },
      "execution_count": 100,
      "outputs": [
        {
          "output_type": "stream",
          "name": "stdout",
          "text": [
            "Parameters defined: {'z_min': 800, 'z_max': 7000, 'D_max': 40, 't_max': 0.001, 'e_max': 0.001, 'S_min': 2, 'S_max': 10}\n"
          ]
        }
      ]
    },
    {
      "cell_type": "markdown",
      "source": [
        "Optimisation problem"
      ],
      "metadata": {
        "id": "gV_M9-x8gTD-"
      }
    },
    {
      "cell_type": "code",
      "source": [
        "import cvxpy as cp\n",
        "def device_selection_with_offloading(devices, params):\n",
        "    N = len(devices)\n",
        "    # Decision variables\n",
        "    s = cp.Variable(N, boolean=True)           # Device selection\n",
        "    phi = cp.Variable((N, N), nonneg=True)     # Offloading fractions\n",
        "    t = cp.Variable(nonneg=True)               # Round latency\n",
        "\n",
        "    # Device parameters\n",
        "    z = np.array([d['z_n'] for d in devices])\n",
        "    rho = np.array([d['rho_n'] for d in devices])\n",
        "    D = np.array([d['Dn'] for d in devices])\n",
        "    t_n = np.array([d['t_n'] for d in devices])\n",
        "    e_n = np.array([d['e_n'] for d in devices])\n",
        "    alpha = np.array([d['alpha_n'] for d in devices])\n",
        "\n",
        "    # Normalize rho for numerical stability\n",
        "    rho_norm = rho / (np.max(rho) + 1e-10)\n",
        "\n",
        "    # Objective: maximize sum(s_n * z_n * rho_n)\n",
        "    objective = cp.Maximize(cp.sum(cp.multiply(s, z * rho_norm)))\n",
        "\n",
        "    constraints = []\n",
        "\n",
        "    # 1a: Variable bounds (handled by cp.Variable)\n",
        "    constraints += [phi <= 1]\n",
        "\n",
        "    # 1b: s_n*z_n + (1-s_n)*z_min >= z_min\n",
        "    constraints += [cp.multiply(s, z) + cp.multiply(1 - s, params['z_min']) >= params['z_min']]\n",
        "\n",
        "    # 1c: (1-s_n)*z_n + alpha_n*t <= z_max\n",
        "    constraints += [cp.multiply(1 - s, z) + cp.multiply(alpha, t) <= params['z_max']]\n",
        "\n",
        "    # 1d: s_n*Dn <= D_max\n",
        "    constraints += [cp.multiply(s, D) <= params['D_max']]\n",
        "\n",
        "    # 1e: t <= t_max, t >= max(s_n * t_n)\n",
        "    constraints += [t <= params['t_max']]\n",
        "    constraints += [t >= cp.max(cp.multiply(s, t_n))]\n",
        "\n",
        "    # 1f: s_n*e_n <= e_max\n",
        "    constraints += [cp.multiply(s, e_n) <= params['e_max']]\n",
        "\n",
        "    # 1g: S_min <= sum(s_n) <= S_max\n",
        "    constraints += [cp.sum(s) >= params['S_min']]\n",
        "    constraints += [cp.sum(s) <= params['S_max']]\n",
        "\n",
        "    # 1h: sum_m phi_mn <= 1 for all n\n",
        "    constraints += [cp.sum(phi, axis=0) <= 1]\n",
        "\n",
        "    # 1i: (1-s_n)(1-s_m)phi_nm = 0  (linearized: phi_nm <= s_n + s_m)\n",
        "    for n in range(N):\n",
        "        for m in range(N):\n",
        "            if n != m:\n",
        "                constraints.append(phi[n, m] <= s[n] + s[m])\n",
        "\n",
        "    # 1j: s_n * phi_nm = 0 (linearized: phi_nm <= 1 - s_n)\n",
        "    for n in range(N):\n",
        "      for m in range(N):\n",
        "         if n != m:\n",
        "            # 1i: Two unselected devices can't talk\n",
        "            constraints.append(phi[n, m] <= s[n] + s[m])\n",
        "            # 1j: Selected device can't offload\n",
        "            constraints.append(phi[n, m] <= 1 - s[n])\n",
        "\n",
        "    # New: Only selected devices can receive offloaded data\n",
        "    for m in range(N):\n",
        "      constraints.append(cp.sum(phi[:, m]) <= s[m])\n",
        "    # NEW: Prevent self-offloading\n",
        "    for n in range(N):\n",
        "       constraints.append(phi[n, n] == 0)\n",
        "\n",
        "    # Solve the problem\n",
        "    prob = cp.Problem(objective, constraints)\n",
        "\n",
        "    try:\n",
        "        prob.solve(solver=cp.ECOS_BB, verbose=False)\n",
        "\n",
        "        if prob.status == cp.OPTIMAL:\n",
        "            selected = (s.value > 0.5).astype(int)\n",
        "            phi_val = phi.value\n",
        "            print(f\"Optimization status: {prob.status}, Objective: {prob.value}\")\n",
        "            print(f\"Number of selected devices: {np.sum(selected)}\")\n",
        "        else:\n",
        "            print(\"Fallback: Optimization was not optimal.\")\n",
        "            print(f\"Status: {prob.status}\")\n",
        "            # Fallback: greedy selection\n",
        "            scores = z * rho_norm\n",
        "            selected_idx = np.argsort(scores)[-params['S_max']:]\n",
        "            selected = np.zeros(N, dtype=int)\n",
        "            selected[selected_idx] = 1\n",
        "            phi_val = np.zeros((N, N))\n",
        "\n",
        "    except Exception as e:\n",
        "        print(f\"Optimization failed: {e}\")\n",
        "        # Fallback: greedy selection\n",
        "        scores = z * rho_norm\n",
        "        selected_idx = np.argsort(scores)[-params['S_max']:]\n",
        "        selected = np.zeros(N, dtype=int)\n",
        "        selected[selected_idx] = 1\n",
        "        phi_val = np.zeros((N, N))\n",
        "\n",
        "    return selected, phi_val\n",
        "\n"
      ],
      "metadata": {
        "id": "4j8tJ6Kifbrk"
      },
      "execution_count": 101,
      "outputs": []
    },
    {
      "cell_type": "markdown",
      "source": [
        "Lets Test"
      ],
      "metadata": {
        "id": "MdQRTyXBlCct"
      }
    },
    {
      "cell_type": "code",
      "source": [
        "# # Simulate 3 devices: 1 weak, 1 strong, 1 average\n",
        "# devices = [\n",
        "#     {'z_n': 1000, 'rho_n': 0.01, 'Dn': 20, 't_n': 0.9, 'e_n': 0.9, 'alpha_n': 1.5e5},  # Weak\n",
        "#     {'z_n': 100000, 'rho_n': 0.95, 'Dn': 30, 't_n': 0.1, 'e_n': 0.1, 'alpha_n': 1.5e5}, # Strong\n",
        "#     {'z_n': 50000, 'rho_n': 0.5, 'Dn': 25, 't_n': 0.5, 'e_n': 0.5, 'alpha_n': 1.5e5},   # Medium\n",
        "# ]\n",
        "\n",
        "# params = {\n",
        "#     'z_min': 10000,\n",
        "#     'z_max': 200000,\n",
        "#     'D_max': 40,\n",
        "#     't_max': 1.0,\n",
        "#     'e_max': 1.0,\n",
        "#     'S_min': 1,\n",
        "#     'S_max': 2\n",
        "# }\n"
      ],
      "metadata": {
        "id": "qO29r4OqlEcD"
      },
      "execution_count": 74,
      "outputs": []
    },
    {
      "cell_type": "markdown",
      "source": [
        "device_selection_with_offloading"
      ],
      "metadata": {
        "id": "Fs5mddNeg1bt"
      }
    },
    {
      "cell_type": "code",
      "source": [
        "selected, phi_val = device_selection_with_offloading(devices, params)\n",
        "\n",
        "print(\"Selected Devices:\", selected)\n",
        "print(\"\\nOffloading Matrix (phi):\")\n",
        "print(np.round(phi_val, 2))\n",
        "\n",
        "# Show which devices sent or received data\n",
        "for n in range(len(devices)):\n",
        "    for m in range(len(devices)):\n",
        "        if phi_val[n, m] > 1e-4:\n",
        "            print(f\"Device {n} offloaded {phi_val[n, m]:.2f} fraction to Device {m}\")\n",
        "\n",
        "# Print all device info for clarity\n",
        "print(\"\\nDevice Stats:\")\n",
        "for i, d in enumerate(devices):\n",
        "    print(f\"Device {i}: z={d['z_n']}, rho={d['rho_n']:.2f}, D={d['Dn']}, t={d['t_n']:.2f}, e={d['e_n']:.2f}, selected={selected[i]}\")\n",
        "\n"
      ],
      "metadata": {
        "colab": {
          "base_uri": "https://localhost:8080/"
        },
        "id": "dDlqaRUeg2A8",
        "outputId": "e0843018-31bb-452b-d2e7-5924f85d2a15"
      },
      "execution_count": 102,
      "outputs": [
        {
          "output_type": "stream",
          "name": "stdout",
          "text": [
            "Fallback: Optimization was not optimal.\n",
            "Status: infeasible\n",
            "Selected Devices: [1 1 1 1 1 1 1 1 1 1]\n",
            "\n",
            "Offloading Matrix (phi):\n",
            "[[0. 0. 0. 0. 0. 0. 0. 0. 0. 0.]\n",
            " [0. 0. 0. 0. 0. 0. 0. 0. 0. 0.]\n",
            " [0. 0. 0. 0. 0. 0. 0. 0. 0. 0.]\n",
            " [0. 0. 0. 0. 0. 0. 0. 0. 0. 0.]\n",
            " [0. 0. 0. 0. 0. 0. 0. 0. 0. 0.]\n",
            " [0. 0. 0. 0. 0. 0. 0. 0. 0. 0.]\n",
            " [0. 0. 0. 0. 0. 0. 0. 0. 0. 0.]\n",
            " [0. 0. 0. 0. 0. 0. 0. 0. 0. 0.]\n",
            " [0. 0. 0. 0. 0. 0. 0. 0. 0. 0.]\n",
            " [0. 0. 0. 0. 0. 0. 0. 0. 0. 0.]]\n",
            "\n",
            "Device Stats:\n",
            "Device 0: z=91373, rho=0.12, D=26, t=3233.53, e=1226.78, selected=1\n",
            "Device 1: z=105524, rho=0.12, D=26, t=2828.02, e=1230.90, selected=1\n",
            "Device 2: z=108351, rho=0.11, D=23, t=2477.71, e=1220.74, selected=1\n",
            "Device 3: z=98968, rho=0.11, D=31, t=3397.73, e=1234.04, selected=1\n",
            "Device 4: z=87065, rho=0.12, D=45, t=2919.28, e=1210.90, selected=1\n",
            "Device 5: z=104701, rho=0.12, D=50, t=2473.81, e=1181.71, selected=1\n",
            "Device 6: z=110051, rho=0.11, D=49, t=3220.39, e=1225.82, selected=1\n",
            "Device 7: z=101425, rho=0.11, D=22, t=3306.83, e=1183.36, selected=1\n",
            "Device 8: z=92011, rho=0.12, D=23, t=3401.95, e=1180.15, selected=1\n",
            "Device 9: z=100740, rho=0.13, D=21, t=3103.67, e=1223.25, selected=1\n"
          ]
        }
      ]
    }
  ]
}